{
 "cells": [
  {
   "cell_type": "code",
   "execution_count": 30,
   "metadata": {},
   "outputs": [],
   "source": [
    "%matplotlib inline\n",
    "\n",
    "#Bibliotecas básicas do python\n",
    "import numpy as np \n",
    "import seaborn as sns\n",
    "import pandas as pd\n",
    "from pandas import DataFrame\n",
    "from pandas.util.testing import assert_frame_equal\n",
    "from pandas_datareader import data\n",
    "import matplotlib.pyplot as plt\n",
    "import datetime\n",
    "import math\n",
    "\n",
    "#Bibliotecas para utilização das métricas do Sklearn\n",
    "import sklearn.metrics\n",
    "from sklearn.metrics import mean_absolute_error, mean_squared_error, r2_score\n",
    "from sklearn.model_selection import train_test_split\n",
    "from sklearn.linear_model import LinearRegression\n",
    "from sklearn import datasets, linear_model\n",
    "from sklearn.metrics import mean_squared_error, r2_score\n",
    "from sklearn.preprocessing import StandardScaler\n",
    "\n",
    "# Bibliotecas para uso do statsmodels\n",
    "import statsmodels.api as sm\n",
    "from scipy import stats\n",
    "\n",
    "#Biblioteca para ignorar os warnings\n",
    "import warnings\n",
    "warnings.filterwarnings(\"ignore\")"
   ]
  },
  {
   "cell_type": "code",
   "execution_count": 2,
   "metadata": {},
   "outputs": [],
   "source": [
    "#Período treinamento\n",
    "treinamento_start_date = '2013-04-28'\n",
    "treinamento_end_date = '2018-12-31'"
   ]
  },
  {
   "cell_type": "code",
   "execution_count": 3,
   "metadata": {},
   "outputs": [],
   "source": [
    "#Moedas que serão utilizadas \n",
    "tickers = ['GLD']"
   ]
  },
  {
   "cell_type": "code",
   "execution_count": 4,
   "metadata": {},
   "outputs": [],
   "source": [
    "#O pandas_datareader será usado para carregar os dados de treinamento do Yahoo Finance\n",
    "treinamento_dataset_GLD = data.DataReader(tickers[0], 'yahoo', treinamento_start_date, treinamento_end_date)"
   ]
  },
  {
   "cell_type": "code",
   "execution_count": 5,
   "metadata": {},
   "outputs": [],
   "source": [
    "treinamento_dataset_Regression = treinamento_dataset_GLD"
   ]
  },
  {
   "cell_type": "code",
   "execution_count": 6,
   "metadata": {},
   "outputs": [],
   "source": [
    "# Novo dataframe que conterá somente as colunas necessárias para treinar o modelo\n",
    "features = ['Open','High','Low','Volume']\n",
    "treinamento_dataset_Regression = treinamento_dataset_Regression[features]"
   ]
  },
  {
   "cell_type": "code",
   "execution_count": 7,
   "metadata": {},
   "outputs": [
    {
     "data": {
      "text/html": [
       "<div>\n",
       "<style scoped>\n",
       "    .dataframe tbody tr th:only-of-type {\n",
       "        vertical-align: middle;\n",
       "    }\n",
       "\n",
       "    .dataframe tbody tr th {\n",
       "        vertical-align: top;\n",
       "    }\n",
       "\n",
       "    .dataframe thead th {\n",
       "        text-align: right;\n",
       "    }\n",
       "</style>\n",
       "<table border=\"1\" class=\"dataframe\">\n",
       "  <thead>\n",
       "    <tr style=\"text-align: right;\">\n",
       "      <th></th>\n",
       "      <th>Open</th>\n",
       "      <th>High</th>\n",
       "      <th>Low</th>\n",
       "      <th>Volume</th>\n",
       "    </tr>\n",
       "    <tr>\n",
       "      <th>Date</th>\n",
       "      <th></th>\n",
       "      <th></th>\n",
       "      <th></th>\n",
       "      <th></th>\n",
       "    </tr>\n",
       "  </thead>\n",
       "  <tbody>\n",
       "    <tr>\n",
       "      <th>2013-04-29</th>\n",
       "      <td>142.130005</td>\n",
       "      <td>142.660004</td>\n",
       "      <td>141.490005</td>\n",
       "      <td>11004500</td>\n",
       "    </tr>\n",
       "    <tr>\n",
       "      <th>2013-04-30</th>\n",
       "      <td>142.270004</td>\n",
       "      <td>142.830002</td>\n",
       "      <td>141.550003</td>\n",
       "      <td>11284400</td>\n",
       "    </tr>\n",
       "    <tr>\n",
       "      <th>2013-05-01</th>\n",
       "      <td>140.589996</td>\n",
       "      <td>141.550003</td>\n",
       "      <td>139.300003</td>\n",
       "      <td>13931100</td>\n",
       "    </tr>\n",
       "    <tr>\n",
       "      <th>2013-05-02</th>\n",
       "      <td>142.000000</td>\n",
       "      <td>142.470001</td>\n",
       "      <td>141.639999</td>\n",
       "      <td>11502200</td>\n",
       "    </tr>\n",
       "    <tr>\n",
       "      <th>2013-05-03</th>\n",
       "      <td>141.699997</td>\n",
       "      <td>142.710007</td>\n",
       "      <td>141.399994</td>\n",
       "      <td>11667100</td>\n",
       "    </tr>\n",
       "    <tr>\n",
       "      <th>2013-05-06</th>\n",
       "      <td>142.330002</td>\n",
       "      <td>142.460007</td>\n",
       "      <td>141.630005</td>\n",
       "      <td>7730300</td>\n",
       "    </tr>\n",
       "    <tr>\n",
       "      <th>2013-05-07</th>\n",
       "      <td>140.380005</td>\n",
       "      <td>140.639999</td>\n",
       "      <td>139.369995</td>\n",
       "      <td>13627400</td>\n",
       "    </tr>\n",
       "    <tr>\n",
       "      <th>2013-05-08</th>\n",
       "      <td>141.779999</td>\n",
       "      <td>142.809998</td>\n",
       "      <td>141.490005</td>\n",
       "      <td>11161100</td>\n",
       "    </tr>\n",
       "    <tr>\n",
       "      <th>2013-05-09</th>\n",
       "      <td>141.330002</td>\n",
       "      <td>142.360001</td>\n",
       "      <td>140.509995</td>\n",
       "      <td>8263000</td>\n",
       "    </tr>\n",
       "    <tr>\n",
       "      <th>2013-05-10</th>\n",
       "      <td>138.220001</td>\n",
       "      <td>139.750000</td>\n",
       "      <td>137.259995</td>\n",
       "      <td>14650600</td>\n",
       "    </tr>\n",
       "  </tbody>\n",
       "</table>\n",
       "</div>"
      ],
      "text/plain": [
       "                  Open        High         Low    Volume\n",
       "Date                                                    \n",
       "2013-04-29  142.130005  142.660004  141.490005  11004500\n",
       "2013-04-30  142.270004  142.830002  141.550003  11284400\n",
       "2013-05-01  140.589996  141.550003  139.300003  13931100\n",
       "2013-05-02  142.000000  142.470001  141.639999  11502200\n",
       "2013-05-03  141.699997  142.710007  141.399994  11667100\n",
       "2013-05-06  142.330002  142.460007  141.630005   7730300\n",
       "2013-05-07  140.380005  140.639999  139.369995  13627400\n",
       "2013-05-08  141.779999  142.809998  141.490005  11161100\n",
       "2013-05-09  141.330002  142.360001  140.509995   8263000\n",
       "2013-05-10  138.220001  139.750000  137.259995  14650600"
      ]
     },
     "execution_count": 7,
     "metadata": {},
     "output_type": "execute_result"
    }
   ],
   "source": [
    "treinamento_dataset_Regression.head(10)"
   ]
  },
  {
   "cell_type": "code",
   "execution_count": 8,
   "metadata": {},
   "outputs": [],
   "source": [
    "#Criação do dataframe que conterá somente o valor de fechamento, este será usado pelo modelo para ajustar os pesos.\n",
    "Dataset_y = treinamento_dataset_GLD['Close']"
   ]
  },
  {
   "cell_type": "code",
   "execution_count": 9,
   "metadata": {},
   "outputs": [],
   "source": [
    "#scikit-learn para fazer essa divisão dos dados\n",
    "X_treino, X_teste, y_treino, y_teste = train_test_split(treinamento_dataset_Regression, Dataset_y, test_size=0.5)"
   ]
  },
  {
   "cell_type": "code",
   "execution_count": 10,
   "metadata": {},
   "outputs": [
    {
     "data": {
      "text/html": [
       "<div>\n",
       "<style scoped>\n",
       "    .dataframe tbody tr th:only-of-type {\n",
       "        vertical-align: middle;\n",
       "    }\n",
       "\n",
       "    .dataframe tbody tr th {\n",
       "        vertical-align: top;\n",
       "    }\n",
       "\n",
       "    .dataframe thead th {\n",
       "        text-align: right;\n",
       "    }\n",
       "</style>\n",
       "<table border=\"1\" class=\"dataframe\">\n",
       "  <thead>\n",
       "    <tr style=\"text-align: right;\">\n",
       "      <th></th>\n",
       "      <th>Open</th>\n",
       "      <th>High</th>\n",
       "      <th>Low</th>\n",
       "      <th>Volume</th>\n",
       "    </tr>\n",
       "    <tr>\n",
       "      <th>Date</th>\n",
       "      <th></th>\n",
       "      <th></th>\n",
       "      <th></th>\n",
       "      <th></th>\n",
       "    </tr>\n",
       "  </thead>\n",
       "  <tbody>\n",
       "    <tr>\n",
       "      <th>2015-09-21</th>\n",
       "      <td>108.489998</td>\n",
       "      <td>108.660004</td>\n",
       "      <td>108.330002</td>\n",
       "      <td>4104800</td>\n",
       "    </tr>\n",
       "    <tr>\n",
       "      <th>2013-07-08</th>\n",
       "      <td>119.089996</td>\n",
       "      <td>119.660004</td>\n",
       "      <td>118.930000</td>\n",
       "      <td>8652200</td>\n",
       "    </tr>\n",
       "    <tr>\n",
       "      <th>2015-10-02</th>\n",
       "      <td>108.540001</td>\n",
       "      <td>109.320000</td>\n",
       "      <td>108.540001</td>\n",
       "      <td>7730600</td>\n",
       "    </tr>\n",
       "    <tr>\n",
       "      <th>2017-09-29</th>\n",
       "      <td>122.290001</td>\n",
       "      <td>122.300003</td>\n",
       "      <td>121.550003</td>\n",
       "      <td>10208000</td>\n",
       "    </tr>\n",
       "    <tr>\n",
       "      <th>2016-07-12</th>\n",
       "      <td>128.520004</td>\n",
       "      <td>128.539993</td>\n",
       "      <td>126.989998</td>\n",
       "      <td>26459600</td>\n",
       "    </tr>\n",
       "  </tbody>\n",
       "</table>\n",
       "</div>"
      ],
      "text/plain": [
       "                  Open        High         Low    Volume\n",
       "Date                                                    \n",
       "2015-09-21  108.489998  108.660004  108.330002   4104800\n",
       "2013-07-08  119.089996  119.660004  118.930000   8652200\n",
       "2015-10-02  108.540001  109.320000  108.540001   7730600\n",
       "2017-09-29  122.290001  122.300003  121.550003  10208000\n",
       "2016-07-12  128.520004  128.539993  126.989998  26459600"
      ]
     },
     "execution_count": 10,
     "metadata": {},
     "output_type": "execute_result"
    }
   ],
   "source": [
    "X_treino.head()"
   ]
  },
  {
   "cell_type": "code",
   "execution_count": 11,
   "metadata": {},
   "outputs": [
    {
     "data": {
      "text/plain": [
       "Date\n",
       "2015-09-21    108.529999\n",
       "2013-07-08    119.510002\n",
       "2015-10-02    108.989998\n",
       "2017-09-29    121.580002\n",
       "2016-07-12    127.150002\n",
       "Name: Close, dtype: float64"
      ]
     },
     "execution_count": 11,
     "metadata": {},
     "output_type": "execute_result"
    }
   ],
   "source": [
    "y_treino.head()"
   ]
  },
  {
   "cell_type": "code",
   "execution_count": 12,
   "metadata": {},
   "outputs": [],
   "source": [
    "y_treino_frame = pd.DataFrame(y_treino)"
   ]
  },
  {
   "cell_type": "code",
   "execution_count": 13,
   "metadata": {},
   "outputs": [
    {
     "data": {
      "text/html": [
       "<div>\n",
       "<style scoped>\n",
       "    .dataframe tbody tr th:only-of-type {\n",
       "        vertical-align: middle;\n",
       "    }\n",
       "\n",
       "    .dataframe tbody tr th {\n",
       "        vertical-align: top;\n",
       "    }\n",
       "\n",
       "    .dataframe thead th {\n",
       "        text-align: right;\n",
       "    }\n",
       "</style>\n",
       "<table border=\"1\" class=\"dataframe\">\n",
       "  <thead>\n",
       "    <tr style=\"text-align: right;\">\n",
       "      <th></th>\n",
       "      <th>Close</th>\n",
       "    </tr>\n",
       "    <tr>\n",
       "      <th>Date</th>\n",
       "      <th></th>\n",
       "    </tr>\n",
       "  </thead>\n",
       "  <tbody>\n",
       "    <tr>\n",
       "      <th>2015-09-21</th>\n",
       "      <td>108.529999</td>\n",
       "    </tr>\n",
       "    <tr>\n",
       "      <th>2013-07-08</th>\n",
       "      <td>119.510002</td>\n",
       "    </tr>\n",
       "    <tr>\n",
       "      <th>2015-10-02</th>\n",
       "      <td>108.989998</td>\n",
       "    </tr>\n",
       "    <tr>\n",
       "      <th>2017-09-29</th>\n",
       "      <td>121.580002</td>\n",
       "    </tr>\n",
       "    <tr>\n",
       "      <th>2016-07-12</th>\n",
       "      <td>127.150002</td>\n",
       "    </tr>\n",
       "  </tbody>\n",
       "</table>\n",
       "</div>"
      ],
      "text/plain": [
       "                 Close\n",
       "Date                  \n",
       "2015-09-21  108.529999\n",
       "2013-07-08  119.510002\n",
       "2015-10-02  108.989998\n",
       "2017-09-29  121.580002\n",
       "2016-07-12  127.150002"
      ]
     },
     "execution_count": 13,
     "metadata": {},
     "output_type": "execute_result"
    }
   ],
   "source": [
    "y_treino_frame.head()"
   ]
  },
  {
   "cell_type": "code",
   "execution_count": 15,
   "metadata": {},
   "outputs": [],
   "source": [
    "y_test_frame = pd.DataFrame(y_teste)"
   ]
  },
  {
   "cell_type": "code",
   "execution_count": 16,
   "metadata": {},
   "outputs": [],
   "source": [
    "lr_model = LinearRegression()"
   ]
  },
  {
   "cell_type": "code",
   "execution_count": 17,
   "metadata": {},
   "outputs": [
    {
     "data": {
      "text/plain": [
       "LinearRegression()"
      ]
     },
     "execution_count": 17,
     "metadata": {},
     "output_type": "execute_result"
    }
   ],
   "source": [
    "#O método fit() é usado para treinar o modelo\n",
    "lr_model.fit(X_treino,y_treino)"
   ]
  },
  {
   "cell_type": "code",
   "execution_count": 18,
   "metadata": {},
   "outputs": [
    {
     "data": {
      "text/plain": [
       "array([-5.61721955e-01,  7.88617165e-01,  7.74713631e-01, -4.97120378e-09])"
      ]
     },
     "execution_count": 18,
     "metadata": {},
     "output_type": "execute_result"
    }
   ],
   "source": [
    "#Visualizar coeficientes\n",
    "lr_model.coef_"
   ]
  },
  {
   "cell_type": "code",
   "execution_count": 19,
   "metadata": {},
   "outputs": [
    {
     "data": {
      "text/plain": [
       "array([128.93330261, 127.24947223, 126.24399553, 123.65394456,\n",
       "       116.35060738, 114.27190737, 107.7214454 , 127.45558329,\n",
       "       116.09681192, 128.12054785, 125.3528417 , 118.68766761,\n",
       "       122.86895438, 104.3429517 , 115.94816506, 115.97728721,\n",
       "       113.52581599, 127.3743574 , 127.00527206, 104.99855279,\n",
       "       111.58576273, 123.80400427, 113.060801  , 124.15403299,\n",
       "       108.78717559, 127.87183846, 116.43264235, 119.832396  ,\n",
       "       101.51824055, 113.74186106])"
      ]
     },
     "execution_count": 19,
     "metadata": {},
     "output_type": "execute_result"
    }
   ],
   "source": [
    "#Usando dataset X_teste para passar a parte dos dados separados para teste para testar o modelo.\n",
    "lr_model.predict(X_teste)[:30]"
   ]
  },
  {
   "cell_type": "code",
   "execution_count": 20,
   "metadata": {},
   "outputs": [],
   "source": [
    "lr_model.predict_frame = pd.DataFrame(lr_model.predict(X_teste))"
   ]
  },
  {
   "cell_type": "code",
   "execution_count": 21,
   "metadata": {},
   "outputs": [
    {
     "data": {
      "text/html": [
       "<div>\n",
       "<style scoped>\n",
       "    .dataframe tbody tr th:only-of-type {\n",
       "        vertical-align: middle;\n",
       "    }\n",
       "\n",
       "    .dataframe tbody tr th {\n",
       "        vertical-align: top;\n",
       "    }\n",
       "\n",
       "    .dataframe thead th {\n",
       "        text-align: right;\n",
       "    }\n",
       "</style>\n",
       "<table border=\"1\" class=\"dataframe\">\n",
       "  <thead>\n",
       "    <tr style=\"text-align: right;\">\n",
       "      <th></th>\n",
       "      <th>0</th>\n",
       "    </tr>\n",
       "  </thead>\n",
       "  <tbody>\n",
       "    <tr>\n",
       "      <th>0</th>\n",
       "      <td>128.933303</td>\n",
       "    </tr>\n",
       "    <tr>\n",
       "      <th>1</th>\n",
       "      <td>127.249472</td>\n",
       "    </tr>\n",
       "    <tr>\n",
       "      <th>2</th>\n",
       "      <td>126.243996</td>\n",
       "    </tr>\n",
       "    <tr>\n",
       "      <th>3</th>\n",
       "      <td>123.653945</td>\n",
       "    </tr>\n",
       "    <tr>\n",
       "      <th>4</th>\n",
       "      <td>116.350607</td>\n",
       "    </tr>\n",
       "    <tr>\n",
       "      <th>5</th>\n",
       "      <td>114.271907</td>\n",
       "    </tr>\n",
       "    <tr>\n",
       "      <th>6</th>\n",
       "      <td>107.721445</td>\n",
       "    </tr>\n",
       "    <tr>\n",
       "      <th>7</th>\n",
       "      <td>127.455583</td>\n",
       "    </tr>\n",
       "    <tr>\n",
       "      <th>8</th>\n",
       "      <td>116.096812</td>\n",
       "    </tr>\n",
       "    <tr>\n",
       "      <th>9</th>\n",
       "      <td>128.120548</td>\n",
       "    </tr>\n",
       "    <tr>\n",
       "      <th>10</th>\n",
       "      <td>125.352842</td>\n",
       "    </tr>\n",
       "    <tr>\n",
       "      <th>11</th>\n",
       "      <td>118.687668</td>\n",
       "    </tr>\n",
       "    <tr>\n",
       "      <th>12</th>\n",
       "      <td>122.868954</td>\n",
       "    </tr>\n",
       "    <tr>\n",
       "      <th>13</th>\n",
       "      <td>104.342952</td>\n",
       "    </tr>\n",
       "    <tr>\n",
       "      <th>14</th>\n",
       "      <td>115.948165</td>\n",
       "    </tr>\n",
       "    <tr>\n",
       "      <th>15</th>\n",
       "      <td>115.977287</td>\n",
       "    </tr>\n",
       "    <tr>\n",
       "      <th>16</th>\n",
       "      <td>113.525816</td>\n",
       "    </tr>\n",
       "    <tr>\n",
       "      <th>17</th>\n",
       "      <td>127.374357</td>\n",
       "    </tr>\n",
       "    <tr>\n",
       "      <th>18</th>\n",
       "      <td>127.005272</td>\n",
       "    </tr>\n",
       "    <tr>\n",
       "      <th>19</th>\n",
       "      <td>104.998553</td>\n",
       "    </tr>\n",
       "    <tr>\n",
       "      <th>20</th>\n",
       "      <td>111.585763</td>\n",
       "    </tr>\n",
       "    <tr>\n",
       "      <th>21</th>\n",
       "      <td>123.804004</td>\n",
       "    </tr>\n",
       "    <tr>\n",
       "      <th>22</th>\n",
       "      <td>113.060801</td>\n",
       "    </tr>\n",
       "    <tr>\n",
       "      <th>23</th>\n",
       "      <td>124.154033</td>\n",
       "    </tr>\n",
       "    <tr>\n",
       "      <th>24</th>\n",
       "      <td>108.787176</td>\n",
       "    </tr>\n",
       "    <tr>\n",
       "      <th>25</th>\n",
       "      <td>127.871838</td>\n",
       "    </tr>\n",
       "    <tr>\n",
       "      <th>26</th>\n",
       "      <td>116.432642</td>\n",
       "    </tr>\n",
       "    <tr>\n",
       "      <th>27</th>\n",
       "      <td>119.832396</td>\n",
       "    </tr>\n",
       "    <tr>\n",
       "      <th>28</th>\n",
       "      <td>101.518241</td>\n",
       "    </tr>\n",
       "    <tr>\n",
       "      <th>29</th>\n",
       "      <td>113.741861</td>\n",
       "    </tr>\n",
       "  </tbody>\n",
       "</table>\n",
       "</div>"
      ],
      "text/plain": [
       "             0\n",
       "0   128.933303\n",
       "1   127.249472\n",
       "2   126.243996\n",
       "3   123.653945\n",
       "4   116.350607\n",
       "5   114.271907\n",
       "6   107.721445\n",
       "7   127.455583\n",
       "8   116.096812\n",
       "9   128.120548\n",
       "10  125.352842\n",
       "11  118.687668\n",
       "12  122.868954\n",
       "13  104.342952\n",
       "14  115.948165\n",
       "15  115.977287\n",
       "16  113.525816\n",
       "17  127.374357\n",
       "18  127.005272\n",
       "19  104.998553\n",
       "20  111.585763\n",
       "21  123.804004\n",
       "22  113.060801\n",
       "23  124.154033\n",
       "24  108.787176\n",
       "25  127.871838\n",
       "26  116.432642\n",
       "27  119.832396\n",
       "28  101.518241\n",
       "29  113.741861"
      ]
     },
     "execution_count": 21,
     "metadata": {},
     "output_type": "execute_result"
    }
   ],
   "source": [
    "#Visualização em Dataframe\n",
    "lr_model.predict_frame.head(30)"
   ]
  },
  {
   "cell_type": "code",
   "execution_count": 22,
   "metadata": {},
   "outputs": [
    {
     "data": {
      "text/html": [
       "<div>\n",
       "<style scoped>\n",
       "    .dataframe tbody tr th:only-of-type {\n",
       "        vertical-align: middle;\n",
       "    }\n",
       "\n",
       "    .dataframe tbody tr th {\n",
       "        vertical-align: top;\n",
       "    }\n",
       "\n",
       "    .dataframe thead th {\n",
       "        text-align: right;\n",
       "    }\n",
       "</style>\n",
       "<table border=\"1\" class=\"dataframe\">\n",
       "  <thead>\n",
       "    <tr style=\"text-align: right;\">\n",
       "      <th></th>\n",
       "      <th>Close</th>\n",
       "    </tr>\n",
       "    <tr>\n",
       "      <th>Date</th>\n",
       "      <th></th>\n",
       "    </tr>\n",
       "  </thead>\n",
       "  <tbody>\n",
       "    <tr>\n",
       "      <th>2014-03-04</th>\n",
       "      <td>128.679993</td>\n",
       "    </tr>\n",
       "    <tr>\n",
       "      <th>2013-10-02</th>\n",
       "      <td>127.059998</td>\n",
       "    </tr>\n",
       "    <tr>\n",
       "      <th>2014-07-21</th>\n",
       "      <td>126.339996</td>\n",
       "    </tr>\n",
       "    <tr>\n",
       "      <th>2015-01-23</th>\n",
       "      <td>124.230003</td>\n",
       "    </tr>\n",
       "    <tr>\n",
       "      <th>2016-04-01</th>\n",
       "      <td>116.930000</td>\n",
       "    </tr>\n",
       "    <tr>\n",
       "      <th>2017-01-12</th>\n",
       "      <td>113.910004</td>\n",
       "    </tr>\n",
       "    <tr>\n",
       "      <th>2016-12-20</th>\n",
       "      <td>107.790001</td>\n",
       "    </tr>\n",
       "    <tr>\n",
       "      <th>2014-02-28</th>\n",
       "      <td>127.620003</td>\n",
       "    </tr>\n",
       "    <tr>\n",
       "      <th>2018-07-31</th>\n",
       "      <td>115.989998</td>\n",
       "    </tr>\n",
       "    <tr>\n",
       "      <th>2016-08-15</th>\n",
       "      <td>127.839996</td>\n",
       "    </tr>\n",
       "    <tr>\n",
       "      <th>2016-09-19</th>\n",
       "      <td>125.320000</td>\n",
       "    </tr>\n",
       "    <tr>\n",
       "      <th>2018-06-29</th>\n",
       "      <td>118.650002</td>\n",
       "    </tr>\n",
       "    <tr>\n",
       "      <th>2014-08-25</th>\n",
       "      <td>122.739998</td>\n",
       "    </tr>\n",
       "    <tr>\n",
       "      <th>2015-11-10</th>\n",
       "      <td>104.180000</td>\n",
       "    </tr>\n",
       "    <tr>\n",
       "      <th>2016-04-07</th>\n",
       "      <td>118.610001</td>\n",
       "    </tr>\n",
       "    <tr>\n",
       "      <th>2016-02-22</th>\n",
       "      <td>115.489998</td>\n",
       "    </tr>\n",
       "    <tr>\n",
       "      <th>2018-10-03</th>\n",
       "      <td>113.419998</td>\n",
       "    </tr>\n",
       "    <tr>\n",
       "      <th>2013-07-31</th>\n",
       "      <td>127.959999</td>\n",
       "    </tr>\n",
       "    <tr>\n",
       "      <th>2018-01-30</th>\n",
       "      <td>126.800003</td>\n",
       "    </tr>\n",
       "    <tr>\n",
       "      <th>2016-01-21</th>\n",
       "      <td>105.489998</td>\n",
       "    </tr>\n",
       "    <tr>\n",
       "      <th>2016-02-05</th>\n",
       "      <td>112.320000</td>\n",
       "    </tr>\n",
       "    <tr>\n",
       "      <th>2013-11-08</th>\n",
       "      <td>124.279999</td>\n",
       "    </tr>\n",
       "    <tr>\n",
       "      <th>2014-12-22</th>\n",
       "      <td>112.550003</td>\n",
       "    </tr>\n",
       "    <tr>\n",
       "      <th>2013-07-15</th>\n",
       "      <td>124.180000</td>\n",
       "    </tr>\n",
       "    <tr>\n",
       "      <th>2015-10-05</th>\n",
       "      <td>108.769997</td>\n",
       "    </tr>\n",
       "    <tr>\n",
       "      <th>2018-04-16</th>\n",
       "      <td>127.629997</td>\n",
       "    </tr>\n",
       "    <tr>\n",
       "      <th>2014-12-03</th>\n",
       "      <td>116.330002</td>\n",
       "    </tr>\n",
       "    <tr>\n",
       "      <th>2014-06-04</th>\n",
       "      <td>119.760002</td>\n",
       "    </tr>\n",
       "    <tr>\n",
       "      <th>2015-12-31</th>\n",
       "      <td>101.459999</td>\n",
       "    </tr>\n",
       "    <tr>\n",
       "      <th>2014-11-14</th>\n",
       "      <td>114.470001</td>\n",
       "    </tr>\n",
       "  </tbody>\n",
       "</table>\n",
       "</div>"
      ],
      "text/plain": [
       "                 Close\n",
       "Date                  \n",
       "2014-03-04  128.679993\n",
       "2013-10-02  127.059998\n",
       "2014-07-21  126.339996\n",
       "2015-01-23  124.230003\n",
       "2016-04-01  116.930000\n",
       "2017-01-12  113.910004\n",
       "2016-12-20  107.790001\n",
       "2014-02-28  127.620003\n",
       "2018-07-31  115.989998\n",
       "2016-08-15  127.839996\n",
       "2016-09-19  125.320000\n",
       "2018-06-29  118.650002\n",
       "2014-08-25  122.739998\n",
       "2015-11-10  104.180000\n",
       "2016-04-07  118.610001\n",
       "2016-02-22  115.489998\n",
       "2018-10-03  113.419998\n",
       "2013-07-31  127.959999\n",
       "2018-01-30  126.800003\n",
       "2016-01-21  105.489998\n",
       "2016-02-05  112.320000\n",
       "2013-11-08  124.279999\n",
       "2014-12-22  112.550003\n",
       "2013-07-15  124.180000\n",
       "2015-10-05  108.769997\n",
       "2018-04-16  127.629997\n",
       "2014-12-03  116.330002\n",
       "2014-06-04  119.760002\n",
       "2015-12-31  101.459999\n",
       "2014-11-14  114.470001"
      ]
     },
     "execution_count": 22,
     "metadata": {},
     "output_type": "execute_result"
    }
   ],
   "source": [
    "#Valor real\n",
    "y_test_frame.head(30)"
   ]
  },
  {
   "cell_type": "code",
   "execution_count": 23,
   "metadata": {},
   "outputs": [
    {
     "name": "stdout",
     "output_type": "stream",
     "text": [
      "Mean squared error: 0.09\n"
     ]
    }
   ],
   "source": [
    "#Mean squared error\n",
    "print('Mean squared error: %.2f'\n",
    "      % mean_squared_error(y_test_frame, lr_model.predict_frame))"
   ]
  },
  {
   "cell_type": "code",
   "execution_count": 24,
   "metadata": {},
   "outputs": [
    {
     "data": {
      "text/plain": [
       "0.30687281224528357"
      ]
     },
     "execution_count": 24,
     "metadata": {},
     "output_type": "execute_result"
    }
   ],
   "source": [
    "#Root Mean squared error\n",
    "RMSE = mean_squared_error(y_test_frame, lr_model.predict_frame)**0.5\n",
    "RMSE"
   ]
  },
  {
   "cell_type": "code",
   "execution_count": 25,
   "metadata": {},
   "outputs": [
    {
     "name": "stdout",
     "output_type": "stream",
     "text": [
      "MAE:  0.2132124910741456\n"
     ]
    }
   ],
   "source": [
    "#Mean absolute error\n",
    "print('MAE: ', mean_absolute_error(y_test_frame, lr_model.predict_frame))"
   ]
  },
  {
   "cell_type": "code",
   "execution_count": null,
   "metadata": {},
   "outputs": [],
   "source": []
  }
 ],
 "metadata": {
  "kernelspec": {
   "display_name": "Python 3",
   "language": "python",
   "name": "python3"
  },
  "language_info": {
   "codemirror_mode": {
    "name": "ipython",
    "version": 3
   },
   "file_extension": ".py",
   "mimetype": "text/x-python",
   "name": "python",
   "nbconvert_exporter": "python",
   "pygments_lexer": "ipython3",
   "version": "3.7.3"
  }
 },
 "nbformat": 4,
 "nbformat_minor": 2
}
